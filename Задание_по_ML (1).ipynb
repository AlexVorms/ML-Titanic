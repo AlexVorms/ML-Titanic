{
  "nbformat": 4,
  "nbformat_minor": 0,
  "metadata": {
    "colab": {
      "provenance": []
    },
    "kernelspec": {
      "name": "python3",
      "display_name": "Python 3"
    },
    "language_info": {
      "name": "python"
    }
  },
  "cells": [
    {
      "cell_type": "code",
      "execution_count": 1,
      "metadata": {
        "id": "m2wskyQjBbOD"
      },
      "outputs": [],
      "source": [
        "import numpy as np\n",
        "import pandas as pd\n",
        "import matplotlib.pyplot as plt\n"
      ]
    },
    {
      "cell_type": "code",
      "source": [
        "data = pd.read_csv('data.csv')\n",
        "data[['CabinA', 'CabinB', 'CabinC']] = data['Cabin'].str.split(\"/\", expand=True)\n",
        "to_drop = 'Name PassengerId Cabin'.split()\n",
        "data = data.drop(columns=to_drop)\n",
        "data"
      ],
      "metadata": {
        "colab": {
          "base_uri": "https://localhost:8080/",
          "height": 626
        },
        "id": "JovqMjqYYCWo",
        "outputId": "6245034f-ddce-4e1a-efc5-af9b9aa7ca51"
      },
      "execution_count": 2,
      "outputs": [
        {
          "output_type": "execute_result",
          "data": {
            "text/plain": [
              "     HomePlanet CryoSleep    Destination   Age    VIP  RoomService  FoodCourt  \\\n",
              "0        Europa     False    TRAPPIST-1e  39.0  False          0.0        0.0   \n",
              "1         Earth     False    TRAPPIST-1e  24.0  False        109.0        9.0   \n",
              "2        Europa     False    TRAPPIST-1e  58.0   True         43.0     3576.0   \n",
              "3        Europa     False    TRAPPIST-1e  33.0  False          0.0     1283.0   \n",
              "4         Earth     False    TRAPPIST-1e  16.0  False        303.0       70.0   \n",
              "...         ...       ...            ...   ...    ...          ...        ...   \n",
              "8688     Europa     False    55 Cancri e  41.0   True          0.0     6819.0   \n",
              "8689      Earth      True  PSO J318.5-22  18.0  False          0.0        0.0   \n",
              "8690      Earth     False    TRAPPIST-1e  26.0  False          0.0        0.0   \n",
              "8691     Europa     False    55 Cancri e  32.0  False          0.0     1049.0   \n",
              "8692     Europa     False    TRAPPIST-1e  44.0  False        126.0     4688.0   \n",
              "\n",
              "      ShoppingMall     Spa  VRDeck  Transported CabinA CabinB CabinC  \n",
              "0              0.0     0.0     0.0        False      B      0      P  \n",
              "1             25.0   549.0    44.0         True      F      0      S  \n",
              "2              0.0  6715.0    49.0        False      A      0      S  \n",
              "3            371.0  3329.0   193.0        False      A      0      S  \n",
              "4            151.0   565.0     2.0         True      F      1      S  \n",
              "...            ...     ...     ...          ...    ...    ...    ...  \n",
              "8688           0.0  1643.0    74.0        False      A     98      P  \n",
              "8689           0.0     0.0     0.0        False      G   1499      S  \n",
              "8690        1872.0     1.0     0.0         True      G   1500      S  \n",
              "8691           0.0   353.0  3235.0        False      E    608      S  \n",
              "8692           0.0     0.0    12.0         True      E    608      S  \n",
              "\n",
              "[8693 rows x 14 columns]"
            ],
            "text/html": [
              "\n",
              "  <div id=\"df-5b7eed42-e7bd-44d2-bbda-b9bc636da5b8\">\n",
              "    <div class=\"colab-df-container\">\n",
              "      <div>\n",
              "<style scoped>\n",
              "    .dataframe tbody tr th:only-of-type {\n",
              "        vertical-align: middle;\n",
              "    }\n",
              "\n",
              "    .dataframe tbody tr th {\n",
              "        vertical-align: top;\n",
              "    }\n",
              "\n",
              "    .dataframe thead th {\n",
              "        text-align: right;\n",
              "    }\n",
              "</style>\n",
              "<table border=\"1\" class=\"dataframe\">\n",
              "  <thead>\n",
              "    <tr style=\"text-align: right;\">\n",
              "      <th></th>\n",
              "      <th>HomePlanet</th>\n",
              "      <th>CryoSleep</th>\n",
              "      <th>Destination</th>\n",
              "      <th>Age</th>\n",
              "      <th>VIP</th>\n",
              "      <th>RoomService</th>\n",
              "      <th>FoodCourt</th>\n",
              "      <th>ShoppingMall</th>\n",
              "      <th>Spa</th>\n",
              "      <th>VRDeck</th>\n",
              "      <th>Transported</th>\n",
              "      <th>CabinA</th>\n",
              "      <th>CabinB</th>\n",
              "      <th>CabinC</th>\n",
              "    </tr>\n",
              "  </thead>\n",
              "  <tbody>\n",
              "    <tr>\n",
              "      <th>0</th>\n",
              "      <td>Europa</td>\n",
              "      <td>False</td>\n",
              "      <td>TRAPPIST-1e</td>\n",
              "      <td>39.0</td>\n",
              "      <td>False</td>\n",
              "      <td>0.0</td>\n",
              "      <td>0.0</td>\n",
              "      <td>0.0</td>\n",
              "      <td>0.0</td>\n",
              "      <td>0.0</td>\n",
              "      <td>False</td>\n",
              "      <td>B</td>\n",
              "      <td>0</td>\n",
              "      <td>P</td>\n",
              "    </tr>\n",
              "    <tr>\n",
              "      <th>1</th>\n",
              "      <td>Earth</td>\n",
              "      <td>False</td>\n",
              "      <td>TRAPPIST-1e</td>\n",
              "      <td>24.0</td>\n",
              "      <td>False</td>\n",
              "      <td>109.0</td>\n",
              "      <td>9.0</td>\n",
              "      <td>25.0</td>\n",
              "      <td>549.0</td>\n",
              "      <td>44.0</td>\n",
              "      <td>True</td>\n",
              "      <td>F</td>\n",
              "      <td>0</td>\n",
              "      <td>S</td>\n",
              "    </tr>\n",
              "    <tr>\n",
              "      <th>2</th>\n",
              "      <td>Europa</td>\n",
              "      <td>False</td>\n",
              "      <td>TRAPPIST-1e</td>\n",
              "      <td>58.0</td>\n",
              "      <td>True</td>\n",
              "      <td>43.0</td>\n",
              "      <td>3576.0</td>\n",
              "      <td>0.0</td>\n",
              "      <td>6715.0</td>\n",
              "      <td>49.0</td>\n",
              "      <td>False</td>\n",
              "      <td>A</td>\n",
              "      <td>0</td>\n",
              "      <td>S</td>\n",
              "    </tr>\n",
              "    <tr>\n",
              "      <th>3</th>\n",
              "      <td>Europa</td>\n",
              "      <td>False</td>\n",
              "      <td>TRAPPIST-1e</td>\n",
              "      <td>33.0</td>\n",
              "      <td>False</td>\n",
              "      <td>0.0</td>\n",
              "      <td>1283.0</td>\n",
              "      <td>371.0</td>\n",
              "      <td>3329.0</td>\n",
              "      <td>193.0</td>\n",
              "      <td>False</td>\n",
              "      <td>A</td>\n",
              "      <td>0</td>\n",
              "      <td>S</td>\n",
              "    </tr>\n",
              "    <tr>\n",
              "      <th>4</th>\n",
              "      <td>Earth</td>\n",
              "      <td>False</td>\n",
              "      <td>TRAPPIST-1e</td>\n",
              "      <td>16.0</td>\n",
              "      <td>False</td>\n",
              "      <td>303.0</td>\n",
              "      <td>70.0</td>\n",
              "      <td>151.0</td>\n",
              "      <td>565.0</td>\n",
              "      <td>2.0</td>\n",
              "      <td>True</td>\n",
              "      <td>F</td>\n",
              "      <td>1</td>\n",
              "      <td>S</td>\n",
              "    </tr>\n",
              "    <tr>\n",
              "      <th>...</th>\n",
              "      <td>...</td>\n",
              "      <td>...</td>\n",
              "      <td>...</td>\n",
              "      <td>...</td>\n",
              "      <td>...</td>\n",
              "      <td>...</td>\n",
              "      <td>...</td>\n",
              "      <td>...</td>\n",
              "      <td>...</td>\n",
              "      <td>...</td>\n",
              "      <td>...</td>\n",
              "      <td>...</td>\n",
              "      <td>...</td>\n",
              "      <td>...</td>\n",
              "    </tr>\n",
              "    <tr>\n",
              "      <th>8688</th>\n",
              "      <td>Europa</td>\n",
              "      <td>False</td>\n",
              "      <td>55 Cancri e</td>\n",
              "      <td>41.0</td>\n",
              "      <td>True</td>\n",
              "      <td>0.0</td>\n",
              "      <td>6819.0</td>\n",
              "      <td>0.0</td>\n",
              "      <td>1643.0</td>\n",
              "      <td>74.0</td>\n",
              "      <td>False</td>\n",
              "      <td>A</td>\n",
              "      <td>98</td>\n",
              "      <td>P</td>\n",
              "    </tr>\n",
              "    <tr>\n",
              "      <th>8689</th>\n",
              "      <td>Earth</td>\n",
              "      <td>True</td>\n",
              "      <td>PSO J318.5-22</td>\n",
              "      <td>18.0</td>\n",
              "      <td>False</td>\n",
              "      <td>0.0</td>\n",
              "      <td>0.0</td>\n",
              "      <td>0.0</td>\n",
              "      <td>0.0</td>\n",
              "      <td>0.0</td>\n",
              "      <td>False</td>\n",
              "      <td>G</td>\n",
              "      <td>1499</td>\n",
              "      <td>S</td>\n",
              "    </tr>\n",
              "    <tr>\n",
              "      <th>8690</th>\n",
              "      <td>Earth</td>\n",
              "      <td>False</td>\n",
              "      <td>TRAPPIST-1e</td>\n",
              "      <td>26.0</td>\n",
              "      <td>False</td>\n",
              "      <td>0.0</td>\n",
              "      <td>0.0</td>\n",
              "      <td>1872.0</td>\n",
              "      <td>1.0</td>\n",
              "      <td>0.0</td>\n",
              "      <td>True</td>\n",
              "      <td>G</td>\n",
              "      <td>1500</td>\n",
              "      <td>S</td>\n",
              "    </tr>\n",
              "    <tr>\n",
              "      <th>8691</th>\n",
              "      <td>Europa</td>\n",
              "      <td>False</td>\n",
              "      <td>55 Cancri e</td>\n",
              "      <td>32.0</td>\n",
              "      <td>False</td>\n",
              "      <td>0.0</td>\n",
              "      <td>1049.0</td>\n",
              "      <td>0.0</td>\n",
              "      <td>353.0</td>\n",
              "      <td>3235.0</td>\n",
              "      <td>False</td>\n",
              "      <td>E</td>\n",
              "      <td>608</td>\n",
              "      <td>S</td>\n",
              "    </tr>\n",
              "    <tr>\n",
              "      <th>8692</th>\n",
              "      <td>Europa</td>\n",
              "      <td>False</td>\n",
              "      <td>TRAPPIST-1e</td>\n",
              "      <td>44.0</td>\n",
              "      <td>False</td>\n",
              "      <td>126.0</td>\n",
              "      <td>4688.0</td>\n",
              "      <td>0.0</td>\n",
              "      <td>0.0</td>\n",
              "      <td>12.0</td>\n",
              "      <td>True</td>\n",
              "      <td>E</td>\n",
              "      <td>608</td>\n",
              "      <td>S</td>\n",
              "    </tr>\n",
              "  </tbody>\n",
              "</table>\n",
              "<p>8693 rows × 14 columns</p>\n",
              "</div>\n",
              "      <button class=\"colab-df-convert\" onclick=\"convertToInteractive('df-5b7eed42-e7bd-44d2-bbda-b9bc636da5b8')\"\n",
              "              title=\"Convert this dataframe to an interactive table.\"\n",
              "              style=\"display:none;\">\n",
              "        \n",
              "  <svg xmlns=\"http://www.w3.org/2000/svg\" height=\"24px\"viewBox=\"0 0 24 24\"\n",
              "       width=\"24px\">\n",
              "    <path d=\"M0 0h24v24H0V0z\" fill=\"none\"/>\n",
              "    <path d=\"M18.56 5.44l.94 2.06.94-2.06 2.06-.94-2.06-.94-.94-2.06-.94 2.06-2.06.94zm-11 1L8.5 8.5l.94-2.06 2.06-.94-2.06-.94L8.5 2.5l-.94 2.06-2.06.94zm10 10l.94 2.06.94-2.06 2.06-.94-2.06-.94-.94-2.06-.94 2.06-2.06.94z\"/><path d=\"M17.41 7.96l-1.37-1.37c-.4-.4-.92-.59-1.43-.59-.52 0-1.04.2-1.43.59L10.3 9.45l-7.72 7.72c-.78.78-.78 2.05 0 2.83L4 21.41c.39.39.9.59 1.41.59.51 0 1.02-.2 1.41-.59l7.78-7.78 2.81-2.81c.8-.78.8-2.07 0-2.86zM5.41 20L4 18.59l7.72-7.72 1.47 1.35L5.41 20z\"/>\n",
              "  </svg>\n",
              "      </button>\n",
              "      \n",
              "  <style>\n",
              "    .colab-df-container {\n",
              "      display:flex;\n",
              "      flex-wrap:wrap;\n",
              "      gap: 12px;\n",
              "    }\n",
              "\n",
              "    .colab-df-convert {\n",
              "      background-color: #E8F0FE;\n",
              "      border: none;\n",
              "      border-radius: 50%;\n",
              "      cursor: pointer;\n",
              "      display: none;\n",
              "      fill: #1967D2;\n",
              "      height: 32px;\n",
              "      padding: 0 0 0 0;\n",
              "      width: 32px;\n",
              "    }\n",
              "\n",
              "    .colab-df-convert:hover {\n",
              "      background-color: #E2EBFA;\n",
              "      box-shadow: 0px 1px 2px rgba(60, 64, 67, 0.3), 0px 1px 3px 1px rgba(60, 64, 67, 0.15);\n",
              "      fill: #174EA6;\n",
              "    }\n",
              "\n",
              "    [theme=dark] .colab-df-convert {\n",
              "      background-color: #3B4455;\n",
              "      fill: #D2E3FC;\n",
              "    }\n",
              "\n",
              "    [theme=dark] .colab-df-convert:hover {\n",
              "      background-color: #434B5C;\n",
              "      box-shadow: 0px 1px 3px 1px rgba(0, 0, 0, 0.15);\n",
              "      filter: drop-shadow(0px 1px 2px rgba(0, 0, 0, 0.3));\n",
              "      fill: #FFFFFF;\n",
              "    }\n",
              "  </style>\n",
              "\n",
              "      <script>\n",
              "        const buttonEl =\n",
              "          document.querySelector('#df-5b7eed42-e7bd-44d2-bbda-b9bc636da5b8 button.colab-df-convert');\n",
              "        buttonEl.style.display =\n",
              "          google.colab.kernel.accessAllowed ? 'block' : 'none';\n",
              "\n",
              "        async function convertToInteractive(key) {\n",
              "          const element = document.querySelector('#df-5b7eed42-e7bd-44d2-bbda-b9bc636da5b8');\n",
              "          const dataTable =\n",
              "            await google.colab.kernel.invokeFunction('convertToInteractive',\n",
              "                                                     [key], {});\n",
              "          if (!dataTable) return;\n",
              "\n",
              "          const docLinkHtml = 'Like what you see? Visit the ' +\n",
              "            '<a target=\"_blank\" href=https://colab.research.google.com/notebooks/data_table.ipynb>data table notebook</a>'\n",
              "            + ' to learn more about interactive tables.';\n",
              "          element.innerHTML = '';\n",
              "          dataTable['output_type'] = 'display_data';\n",
              "          await google.colab.output.renderOutput(dataTable, element);\n",
              "          const docLink = document.createElement('div');\n",
              "          docLink.innerHTML = docLinkHtml;\n",
              "          element.appendChild(docLink);\n",
              "        }\n",
              "      </script>\n",
              "    </div>\n",
              "  </div>\n",
              "  "
            ]
          },
          "metadata": {},
          "execution_count": 2
        }
      ]
    },
    {
      "cell_type": "code",
      "source": [
        "data.isna().sum(axis=1)"
      ],
      "metadata": {
        "colab": {
          "base_uri": "https://localhost:8080/"
        },
        "id": "p-JtE6RMRVYI",
        "outputId": "0bc3922c-afc0-4464-bf10-13cbad0ab270"
      },
      "execution_count": 3,
      "outputs": [
        {
          "output_type": "execute_result",
          "data": {
            "text/plain": [
              "0       0\n",
              "1       0\n",
              "2       0\n",
              "3       0\n",
              "4       0\n",
              "       ..\n",
              "8688    0\n",
              "8689    0\n",
              "8690    0\n",
              "8691    0\n",
              "8692    0\n",
              "Length: 8693, dtype: int64"
            ]
          },
          "metadata": {},
          "execution_count": 3
        }
      ]
    },
    {
      "cell_type": "code",
      "source": [
        "\n",
        "data = data.dropna(subset=['Age'])\n",
        "data = data.dropna(subset=['CabinA'])\n",
        "data = data.dropna(subset=['CabinB'])\n",
        "data = data.dropna(subset=['CabinC'])\n",
        "data = data.dropna(subset=['CryoSleep'])\n",
        "data = data.dropna(subset=['VIP'])\n"
      ],
      "metadata": {
        "id": "0meYDMXze02q"
      },
      "execution_count": 4,
      "outputs": []
    },
    {
      "cell_type": "code",
      "source": [
        "\n",
        "def fun_moda(df, feature):\n",
        "  mode = df[feature].value_counts().index[0]\n",
        "  df[feature] = df[feature].fillna(mode)\n",
        "\n",
        "fun_moda(data, 'Destination')\n",
        "fun_moda(data, 'HomePlanet')"
      ],
      "metadata": {
        "id": "qj-asv_LwTAJ"
      },
      "execution_count": 5,
      "outputs": []
    },
    {
      "cell_type": "code",
      "source": [
        "\n",
        "def fun_mean(df, feature):\n",
        "  mean = df[feature].mean()\n",
        "  df[feature] = df[feature].fillna(mean) \n",
        "\n",
        "fun_mean(data,'RoomService')\n",
        "fun_mean(data,'FoodCourt')\n",
        "fun_mean(data,'ShoppingMall')\n",
        "fun_mean(data,'Spa')\n",
        "fun_mean(data,'VRDeck')"
      ],
      "metadata": {
        "id": "z38atY5C1XyZ"
      },
      "execution_count": 6,
      "outputs": []
    },
    {
      "cell_type": "code",
      "source": [
        "data.isna().sum(axis=0)"
      ],
      "metadata": {
        "colab": {
          "base_uri": "https://localhost:8080/"
        },
        "id": "CPPAs1Pezkh2",
        "outputId": "6fd503bd-1fe4-4dd5-d865-73b137bb67fe"
      },
      "execution_count": 7,
      "outputs": [
        {
          "output_type": "execute_result",
          "data": {
            "text/plain": [
              "HomePlanet      0\n",
              "CryoSleep       0\n",
              "Destination     0\n",
              "Age             0\n",
              "VIP             0\n",
              "RoomService     0\n",
              "FoodCourt       0\n",
              "ShoppingMall    0\n",
              "Spa             0\n",
              "VRDeck          0\n",
              "Transported     0\n",
              "CabinA          0\n",
              "CabinB          0\n",
              "CabinC          0\n",
              "dtype: int64"
            ]
          },
          "metadata": {},
          "execution_count": 7
        }
      ]
    },
    {
      "cell_type": "code",
      "source": [
        "\n",
        "cat_feats = 'HomePlanet Destination CabinA CabinC'.split()\n",
        "\n",
        "def encode_categorical(df, feat):\n",
        "  values = df[feat].unique()\n",
        "\n",
        "  for v in values:\n",
        "    new_col = feat + '_' + v\n",
        "    data1 = (df[feat] == v).astype(int)\n",
        "\n",
        "    df[new_col] = data1\n",
        "\n",
        "  df = df.drop(columns=[feat])\n",
        "  \n",
        "  return df\n",
        "\n",
        "for feat in cat_feats:\n",
        "  data = encode_categorical(data, feat)"
      ],
      "metadata": {
        "id": "IYFATfdC3N2a"
      },
      "execution_count": 8,
      "outputs": []
    },
    {
      "cell_type": "code",
      "source": [
        "target_feat = 'Transported'\n",
        "\n",
        "X = data.drop(columns=target_feat)\n",
        "y = data[target_feat]"
      ],
      "metadata": {
        "id": "gwk_w-TPY4aX"
      },
      "execution_count": 9,
      "outputs": []
    },
    {
      "cell_type": "code",
      "source": [
        "def k_fold(X, y, K, k):\n",
        "  pre_mask = np.arange(y.size) % K\n",
        "  val_mask = pre_mask == k\n",
        "\n",
        "  X_val = X[val_mask]\n",
        "  y_val = y[val_mask]\n",
        "  X_train = X[~val_mask]\n",
        "  y_train = y[~val_mask]\n",
        "\n",
        "  return X_train, y_train, X_val, y_val"
      ],
      "metadata": {
        "id": "iPh86VleZKwF"
      },
      "execution_count": 10,
      "outputs": []
    },
    {
      "cell_type": "code",
      "source": [
        "from sklearn.tree import DecisionTreeClassifier"
      ],
      "metadata": {
        "id": "SxwAMGtKZOAd"
      },
      "execution_count": 11,
      "outputs": []
    },
    {
      "cell_type": "code",
      "source": [
        "K = 10\n",
        "\n",
        "accs = []\n",
        "train_accs = []\n",
        "depthes = np.arange(1, 30)\n",
        "for depth in depthes:\n",
        "\n",
        "  daccs = []\n",
        "  dtrain_accs = []\n",
        "\n",
        "  for k in range(K):\n",
        "    X_train, y_train, X_val, y_val = k_fold(X, y, K, k)\n",
        "\n",
        "    model = DecisionTreeClassifier(max_depth=depth)\n",
        "    model.fit(X_train, y_train)\n",
        "\n",
        "    y_pred = model.predict(X_val)\n",
        "    acc = np.mean(y_pred == y_val)\n",
        "    daccs.append(acc)\n",
        "\n",
        "\n",
        "    y_pred = model.predict(X_train)\n",
        "    acc = np.mean(y_pred == y_train)\n",
        "    dtrain_accs.append(acc)\n",
        "\n",
        "  accs.append(np.mean(daccs))\n",
        "  train_accs.append(np.mean(dtrain_accs))"
      ],
      "metadata": {
        "id": "4uXSpDULdgyM"
      },
      "execution_count": 12,
      "outputs": []
    },
    {
      "cell_type": "code",
      "source": [
        "plt.plot(depthes, accs, label='Val accuracy')\n",
        "plt.plot(depthes, train_accs, label='Train accuracy')\n",
        "\n",
        "plt.legend()"
      ],
      "metadata": {
        "colab": {
          "base_uri": "https://localhost:8080/",
          "height": 448
        },
        "id": "KiOhkVFpzYJO",
        "outputId": "1beb4d8d-7cd0-46af-9572-0e695eaeb644"
      },
      "execution_count": 13,
      "outputs": [
        {
          "output_type": "execute_result",
          "data": {
            "text/plain": [
              "<matplotlib.legend.Legend at 0x7f1e479f7940>"
            ]
          },
          "metadata": {},
          "execution_count": 13
        },
        {
          "output_type": "display_data",
          "data": {
            "text/plain": [
              "<Figure size 640x480 with 1 Axes>"
            ],
            "image/png": "[encoded data removed]"
          },
          "metadata": {}
        }
      ]
    },
    {
      "cell_type": "code",
      "source": [
        "train_accs"
      ],
      "metadata": {
        "colab": {
          "base_uri": "https://localhost:8080/"
        },
        "id": "GvM8S8Uv8MyW",
        "outputId": "9131017e-a187-4fe9-e44f-95a66e253d7e"
      },
      "execution_count": 14,
      "outputs": [
        {
          "output_type": "execute_result",
          "data": {
            "text/plain": [
              "[0.7237855298640785,\n",
              " 0.7383806840764989,\n",
              " 0.7446619902487306,\n",
              " 0.7705993935118968,\n",
              " 0.7906063438212148,\n",
              " 0.8017526149069452,\n",
              " 0.8165020920120467,\n",
              " 0.829484836578685,\n",
              " 0.844823094793979,\n",
              " 0.8613671151101588,\n",
              " 0.8799720580188659,\n",
              " 0.8982265526426468,\n",
              " 0.9161725646338666,\n",
              " 0.9323519620284069,\n",
              " 0.9475499029378435,\n",
              " 0.9594251092868227,\n",
              " 0.9696738925404101,\n",
              " 0.977693509246911,\n",
              " 0.9843531923184674,\n",
              " 0.9891761738883339,\n",
              " 0.9921204430931286,\n",
              " 0.994363693854895,\n",
              " 0.9960742212362987,\n",
              " 0.9972940164437579,\n",
              " 0.9980931821078538,\n",
              " 0.9987661815144495,\n",
              " 0.9992288612351224,\n",
              " 0.9994251458487755,\n",
              " 0.9996915488185809]"
            ]
          },
          "metadata": {},
          "execution_count": 14
        }
      ]
    },
    {
      "cell_type": "code",
      "source": [
        "\n",
        "from sklearn.ensemble import RandomForestClassifier\n",
        "from sklearn.metrics import recall_score\n",
        "rfc = RandomForestClassifier()\n",
        "rfc.fit(X_train, y_train)\n",
        "display(rfc.score(X_train, y_train))"
      ],
      "metadata": {
        "colab": {
          "base_uri": "https://localhost:8080/",
          "height": 35
        },
        "id": "B1IDBmmn1oyu",
        "outputId": "d40702a9-141b-4c36-d7f6-db0f12c574ab"
      },
      "execution_count": 15,
      "outputs": [
        {
          "output_type": "display_data",
          "data": {
            "text/plain": [
              "0.9997196130660311"
            ]
          },
          "metadata": {}
        }
      ]
    }
  ]
}